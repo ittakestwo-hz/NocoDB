{
 "cells": [
  {
   "cell_type": "markdown",
   "metadata": {},
   "source": [
    "# 代码清单"
   ]
  },
  {
   "cell_type": "markdown",
   "metadata": {},
   "source": [
    "## 2-1 计算前 n 个整数之和 "
   ]
  },
  {
   "cell_type": "code",
   "execution_count": null,
   "metadata": {},
   "outputs": [
    {
     "ename": "",
     "evalue": "",
     "output_type": "error",
     "traceback": [
      "\u001b[1;31mFailed to start the Kernel. \n",
      "\u001b[1;31mThe kernel died. Error: ... View Jupyter <a href='command:jupyter.viewOutput'>log</a> for further details."
     ]
    }
   ],
   "source": [
    "def sumOfN(n): \n",
    "    theSum = 0\n",
    "    for i in range(1, n+1):\n",
    "        theSum = theSum + i \n",
    "\n",
    "    return theSum"
   ]
  },
  {
   "cell_type": "markdown",
   "metadata": {},
   "source": [
    "## 2-2 计算前 n 个整数之和的另一种写法 "
   ]
  },
  {
   "cell_type": "code",
   "execution_count": 2,
   "metadata": {},
   "outputs": [],
   "source": [
    "def foo(tom): \n",
    "    fred = 0\n",
    "    for bill in range(1, tom+1): \n",
    "        barney = bill\n",
    "        fred = fred + barney \n",
    "\n",
    "    return fred "
   ]
  },
  {
   "cell_type": "markdown",
   "metadata": {},
   "source": [
    "## 2-3 计算执行时间 "
   ]
  },
  {
   "cell_type": "code",
   "execution_count": 3,
   "metadata": {},
   "outputs": [],
   "source": [
    "import time\n",
    "\n",
    "def sumOfN2(n): \n",
    "    start = time.time()\n",
    "\n",
    "    theSum = 0\n",
    "    for i in range(1, n+1): \n",
    "        theSum = theSum + i \n",
    "\n",
    "    end = time.time()\n",
    "\n",
    "    return theSum, end-start"
   ]
  },
  {
   "cell_type": "code",
   "execution_count": 4,
   "metadata": {},
   "outputs": [
    {
     "name": "stdout",
     "output_type": "stream",
     "text": [
      "Sum is 50005000 required  0.0010667 seconds\n",
      "Sum is 50005000 required  0.0005248 seconds\n",
      "Sum is 50005000 required  0.0008919 seconds\n",
      "Sum is 50005000 required  0.0005078 seconds\n",
      "Sum is 50005000 required  0.0011988 seconds\n"
     ]
    }
   ],
   "source": [
    "for i in range(5): \n",
    "    print(\"Sum is %d required %10.7f seconds\" % sumOfN2(10000))"
   ]
  },
  {
   "cell_type": "code",
   "execution_count": 5,
   "metadata": {},
   "outputs": [
    {
     "name": "stdout",
     "output_type": "stream",
     "text": [
      "Sum is 5000050000 required  0.0087745 seconds\n",
      "Sum is 5000050000 required  0.0090322 seconds\n",
      "Sum is 5000050000 required  0.0077043 seconds\n",
      "Sum is 5000050000 required  0.0079727 seconds\n",
      "Sum is 5000050000 required  0.0090580 seconds\n"
     ]
    }
   ],
   "source": [
    "for i in range(5): \n",
    "    print(\"Sum is %d required %10.7f seconds\" % sumOfN2(100000)) "
   ]
  },
  {
   "cell_type": "markdown",
   "metadata": {},
   "source": [
    "## 2-4"
   ]
  },
  {
   "cell_type": "code",
   "execution_count": 13,
   "metadata": {},
   "outputs": [
    {
     "name": "stdout",
     "output_type": "stream",
     "text": [
      "For n = 10000, Sum is 50005000, required  0.0000000 seconds\n",
      "For n = 100000, Sum is 5000050000, required  0.0000000 seconds\n",
      "For n = 1000000, Sum is 500000500000, required  0.0000000 seconds\n",
      "For n = 10000000, Sum is 50000005000000, required  0.0000000 seconds\n",
      "For n = 100000000, Sum is 5000000050000000, required  0.0000000 seconds\n"
     ]
    }
   ],
   "source": [
    "import time\n",
    "\n",
    "def sumOfN3(n):\n",
    "    start = time.time()\n",
    "    result = (n * (n + 1)) / 2\n",
    "    end = time.time()\n",
    "    elapsed = end - start\n",
    "    return result, elapsed\n",
    "\n",
    "n_values = [10000, 100000, 1000000, 10000000, 100000000]\n",
    "\n",
    "for n in n_values:\n",
    "    result, elapsed = sumOfN3(n)\n",
    "    print(\"For n = %d, Sum is %d, required %10.7f seconds\" % (n, result, elapsed))"
   ]
  },
  {
   "cell_type": "code",
   "execution_count": 15,
   "metadata": {},
   "outputs": [
    {
     "data": {
      "text/plain": [
       "0.00850834"
      ]
     },
     "execution_count": 15,
     "metadata": {},
     "output_type": "execute_result"
    }
   ],
   "source": [
    "(0.0087745 + 0.0090322 + 0.0077043 + 0.0079727 + 0.0090580)/5"
   ]
  }
 ],
 "metadata": {
  "kernelspec": {
   "display_name": "base",
   "language": "python",
   "name": "python3"
  },
  "language_info": {
   "codemirror_mode": {
    "name": "ipython",
    "version": 3
   },
   "file_extension": ".py",
   "mimetype": "text/x-python",
   "name": "python",
   "nbconvert_exporter": "python",
   "pygments_lexer": "ipython3",
   "version": "3.12.4"
  }
 },
 "nbformat": 4,
 "nbformat_minor": 2
}
